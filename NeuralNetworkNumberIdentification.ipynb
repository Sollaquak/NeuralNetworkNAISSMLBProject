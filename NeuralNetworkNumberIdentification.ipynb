{
  "cells": [
    {
      "cell_type": "code",
      "execution_count": null,
      "metadata": {
        "colab": {
          "background_save": true
        },
        "id": "7GzV5wmeqPu5"
      },
      "outputs": [],
      "source": [
        "from torchvision import datasets\n",
        "from torchvision.transforms import ToTensor"
      ]
    },
    {
      "cell_type": "code",
      "execution_count": null,
      "metadata": {
        "id": "pCn31Y7M7Qul"
      },
      "outputs": [],
      "source": [
        "train_data = datasets.MNIST(\n",
        "    root = 'data',\n",
        "    train = True,\n",
        "    transform = ToTensor(),\n",
        "    download = True\n",
        ")\n",
        "\n",
        "test_data = datasets.MNIST(\n",
        "    root = 'data',\n",
        "    train = False,\n",
        "    transform = ToTensor(),\n",
        "    download = True\n",
        ")"
      ]
    },
    {
      "cell_type": "code",
      "execution_count": null,
      "metadata": {
        "colab": {
          "base_uri": "https://localhost:8080/"
        },
        "id": "kphfTBLO8RL2",
        "outputId": "6bc482cc-abb4-451d-a2c1-63290060291e"
      },
      "outputs": [
        {
          "output_type": "execute_result",
          "data": {
            "text/plain": [
              "Dataset MNIST\n",
              "    Number of datapoints: 60000\n",
              "    Root location: data\n",
              "    Split: Train\n",
              "    StandardTransform\n",
              "Transform: ToTensor()"
            ]
          },
          "metadata": {},
          "execution_count": 4
        }
      ],
      "source": [
        "train_data"
      ]
    },
    {
      "cell_type": "code",
      "execution_count": null,
      "metadata": {
        "colab": {
          "base_uri": "https://localhost:8080/"
        },
        "id": "SpnUduFY8VxG",
        "outputId": "56f33bc1-bea1-452c-a1d1-80cf5dca444c"
      },
      "outputs": [
        {
          "output_type": "execute_result",
          "data": {
            "text/plain": [
              "Dataset MNIST\n",
              "    Number of datapoints: 10000\n",
              "    Root location: data\n",
              "    Split: Test\n",
              "    StandardTransform\n",
              "Transform: ToTensor()"
            ]
          },
          "metadata": {},
          "execution_count": 5
        }
      ],
      "source": [
        "test_data"
      ]
    },
    {
      "cell_type": "code",
      "execution_count": null,
      "metadata": {
        "colab": {
          "base_uri": "https://localhost:8080/"
        },
        "id": "5Z7Rufz68bhk",
        "outputId": "5f5da6c3-ce82-4318-9476-3b1d03b8e4fc"
      },
      "outputs": [
        {
          "output_type": "execute_result",
          "data": {
            "text/plain": [
              "torch.Size([60000, 28, 28])"
            ]
          },
          "metadata": {},
          "execution_count": 6
        }
      ],
      "source": [
        "train_data.data.shape"
      ]
    },
    {
      "cell_type": "code",
      "execution_count": null,
      "metadata": {
        "colab": {
          "base_uri": "https://localhost:8080/"
        },
        "id": "GNntChPY8nEG",
        "outputId": "3fd1aa3a-3a7a-47de-e9c5-71a8bfbaf2ac"
      },
      "outputs": [
        {
          "output_type": "execute_result",
          "data": {
            "text/plain": [
              "torch.Size([10000, 28, 28])"
            ]
          },
          "metadata": {},
          "execution_count": 7
        }
      ],
      "source": [
        "test_data.data.shape"
      ]
    },
    {
      "cell_type": "code",
      "execution_count": null,
      "metadata": {
        "colab": {
          "base_uri": "https://localhost:8080/"
        },
        "id": "ntrbptUN8txL",
        "outputId": "d67e2989-d22d-4505-885e-ea2a9d2be1ce"
      },
      "outputs": [
        {
          "output_type": "execute_result",
          "data": {
            "text/plain": [
              "torch.Size([60000])"
            ]
          },
          "metadata": {},
          "execution_count": 8
        }
      ],
      "source": [
        "train_data.targets.size()"
      ]
    },
    {
      "cell_type": "code",
      "execution_count": null,
      "metadata": {
        "colab": {
          "base_uri": "https://localhost:8080/"
        },
        "id": "eKM6dmsn8wJy",
        "outputId": "01d10e85-f1e6-4114-8ac3-5a361b12abfc"
      },
      "outputs": [
        {
          "output_type": "execute_result",
          "data": {
            "text/plain": [
              "tensor([5, 0, 4,  ..., 5, 6, 8])"
            ]
          },
          "metadata": {},
          "execution_count": 9
        }
      ],
      "source": [
        "train_data.targets"
      ]
    },
    {
      "cell_type": "code",
      "execution_count": null,
      "metadata": {
        "id": "LheV-Z-O8x6j"
      },
      "outputs": [],
      "source": [
        "from torch.utils.data import DataLoader\n",
        "\n",
        "loaders = {\n",
        "    'train': DataLoader(train_data,\n",
        "                        batch_size = 100,\n",
        "                        shuffle = True,\n",
        "                        num_workers = 1),\n",
        "    'test': DataLoader(test_data,\n",
        "                        batch_size = 100,\n",
        "                        shuffle = True,\n",
        "                        num_workers = 1),\n",
        "\n",
        "}"
      ]
    },
    {
      "cell_type": "code",
      "execution_count": null,
      "metadata": {
        "colab": {
          "base_uri": "https://localhost:8080/"
        },
        "id": "3hPsX6mC9SJZ",
        "outputId": "6049fc90-2de2-4a57-b803-b433aa5232fe"
      },
      "outputs": [
        {
          "output_type": "execute_result",
          "data": {
            "text/plain": [
              "{'train': <torch.utils.data.dataloader.DataLoader at 0x7a37b0099840>,\n",
              " 'test': <torch.utils.data.dataloader.DataLoader at 0x7a37b00981c0>}"
            ]
          },
          "metadata": {},
          "execution_count": 11
        }
      ],
      "source": [
        "loaders"
      ]
    },
    {
      "cell_type": "code",
      "execution_count": null,
      "metadata": {
        "id": "VRs6KAWE9T8E"
      },
      "outputs": [],
      "source": [
        "import torch.nn as nn\n",
        "import torch.nn.functional as F\n",
        "import torch.optim as optim\n",
        "\n",
        "class CNN(nn.Module):\n",
        "  def __init__(self):\n",
        "    super(CNN, self).__init__()\n",
        "\n",
        "    self.conv1 = nn.Conv2d(1, 10, kernel_size = 5)\n",
        "    self.conv2 = nn.Conv2d(10, 20, kernel_size = 5)\n",
        "    self.conv2_drop = nn.Dropout2d()\n",
        "    self.fc1 = nn.Linear(320, 50)\n",
        "    self.fc2 = nn.Linear(50, 10)\n",
        "\n",
        "  def forward(self, x):\n",
        "    x = F.relu(F.max_pool2d(self.conv1(x), 2))\n",
        "    x = F.relu(F.max_pool2d(self.conv2_drop(self.conv2(x)), 2))\n",
        "    x = x.view(-1, 320)\n",
        "    x = F.relu(self.fc1(x))\n",
        "    x = F.dropout(x, training = self.training)\n",
        "    x = self.fc2(x)\n",
        "\n",
        "    return F.softmax(x)\n"
      ]
    },
    {
      "cell_type": "code",
      "execution_count": null,
      "metadata": {
        "id": "Ap9f7H5x-GS0"
      },
      "outputs": [],
      "source": [
        "import torch\n",
        "\n",
        "device = torch.device('cuda' if torch.cuda.is_available() else 'cpu')\n",
        "\n",
        "model = CNN().to(device)\n",
        "\n",
        "optimizer = optim.Adam(model.parameters(), lr = 0.001)\n",
        "\n",
        "loss_fn = nn.CrossEntropyLoss()\n",
        "\n",
        "def train(epoch):\n",
        "  model.train()\n",
        "  for batch_idx, (data, target) in enumerate(loaders['train']):\n",
        "    data, target = data.to(device), target.to(device)\n",
        "    optimizer.zero_grad()\n",
        "    output = model(data)\n",
        "    loss = loss_fn(output, target)\n",
        "    loss.backward()\n",
        "    optimizer.step()\n",
        "    if batch_idx % 20 == 0:\n",
        "      print(f'Train Epoch: {epoch} [{batch_idx * len(data)}/{len(loaders[\"train\"].dataset)} ({100. * batch_idx / len(loaders[\"train\"]):.0f}%)]\\t{loss.item():.6f}')\n",
        "\n",
        "def test():\n",
        "  model.eval()\n",
        "\n",
        "  test_loss = 0\n",
        "  correct = 0\n",
        "\n",
        "  with torch.no_grad():\n",
        "    for data, target in loaders['test']:\n",
        "      data, target = data.to(device), target.to(device)\n",
        "      output = model(data)\n",
        "      test_loss += loss_fn(output, target).item()\n",
        "      pred = output.argmax(dim = 1, keepdim = True)\n",
        "      correct += pred.eq(target.view_as(pred)).sum().item()\n",
        "  test_loss /= len(loaders['test'].dataset)\n",
        "  print(f'\\nTest set: Average loss: {test_loss:.4f}, Accuracy {correct}/{len(loaders[\"test\"].dataset)} ({100. * correct / len(loaders[\"test\"].dataset):.0f}%\\n)')"
      ]
    },
    {
      "cell_type": "code",
      "execution_count": null,
      "metadata": {
        "id": "7I9DRaAsBXwR",
        "colab": {
          "base_uri": "https://localhost:8080/"
        },
        "outputId": "42ed0140-b5f9-477e-a989-e5230a39b27a"
      },
      "outputs": [
        {
          "output_type": "stream",
          "name": "stderr",
          "text": [
            "<ipython-input-13-444546ba4a1c>:23: UserWarning: Implicit dimension choice for softmax has been deprecated. Change the call to include dim=X as an argument.\n",
            "  return F.softmax(x)\n"
          ]
        },
        {
          "output_type": "stream",
          "name": "stdout",
          "text": [
            "Train Epoch: 1 [0/60000 (0%)]\t2.303534\n",
            "Train Epoch: 1 [2000/60000 (3%)]\t2.295251\n",
            "Train Epoch: 1 [4000/60000 (7%)]\t2.223889\n",
            "Train Epoch: 1 [6000/60000 (10%)]\t2.052913\n",
            "Train Epoch: 1 [8000/60000 (13%)]\t1.881219\n",
            "Train Epoch: 1 [10000/60000 (17%)]\t1.843413\n",
            "Train Epoch: 1 [12000/60000 (20%)]\t1.843597\n",
            "Train Epoch: 1 [14000/60000 (23%)]\t1.843733\n",
            "Train Epoch: 1 [16000/60000 (27%)]\t1.823553\n",
            "Train Epoch: 1 [18000/60000 (30%)]\t1.829984\n",
            "Train Epoch: 1 [20000/60000 (33%)]\t1.770129\n",
            "Train Epoch: 1 [22000/60000 (37%)]\t1.759318\n",
            "Train Epoch: 1 [24000/60000 (40%)]\t1.723510\n",
            "Train Epoch: 1 [26000/60000 (43%)]\t1.708648\n",
            "Train Epoch: 1 [28000/60000 (47%)]\t1.677052\n",
            "Train Epoch: 1 [30000/60000 (50%)]\t1.661999\n",
            "Train Epoch: 1 [32000/60000 (53%)]\t1.735904\n",
            "Train Epoch: 1 [34000/60000 (57%)]\t1.710065\n",
            "Train Epoch: 1 [36000/60000 (60%)]\t1.702385\n",
            "Train Epoch: 1 [38000/60000 (63%)]\t1.693671\n",
            "Train Epoch: 1 [40000/60000 (67%)]\t1.669067\n",
            "Train Epoch: 1 [42000/60000 (70%)]\t1.648417\n",
            "Train Epoch: 1 [44000/60000 (73%)]\t1.621225\n",
            "Train Epoch: 1 [46000/60000 (77%)]\t1.707939\n",
            "Train Epoch: 1 [48000/60000 (80%)]\t1.629495\n",
            "Train Epoch: 1 [50000/60000 (83%)]\t1.680186\n",
            "Train Epoch: 1 [52000/60000 (87%)]\t1.691223\n",
            "Train Epoch: 1 [54000/60000 (90%)]\t1.664058\n",
            "Train Epoch: 1 [56000/60000 (93%)]\t1.608993\n",
            "Train Epoch: 1 [58000/60000 (97%)]\t1.670922\n",
            "\n",
            "Test set: Average loss: 0.0155, Accuracy 9140/10000 (91%\n",
            ")\n",
            "Train Epoch: 2 [0/60000 (0%)]\t1.607461\n",
            "Train Epoch: 2 [2000/60000 (3%)]\t1.630996\n",
            "Train Epoch: 2 [4000/60000 (7%)]\t1.629438\n",
            "Train Epoch: 2 [6000/60000 (10%)]\t1.605248\n",
            "Train Epoch: 2 [8000/60000 (13%)]\t1.617532\n",
            "Train Epoch: 2 [10000/60000 (17%)]\t1.609897\n",
            "Train Epoch: 2 [12000/60000 (20%)]\t1.608657\n",
            "Train Epoch: 2 [14000/60000 (23%)]\t1.662482\n",
            "Train Epoch: 2 [16000/60000 (27%)]\t1.620692\n",
            "Train Epoch: 2 [18000/60000 (30%)]\t1.714066\n",
            "Train Epoch: 2 [20000/60000 (33%)]\t1.592694\n",
            "Train Epoch: 2 [22000/60000 (37%)]\t1.625802\n",
            "Train Epoch: 2 [24000/60000 (40%)]\t1.630051\n",
            "Train Epoch: 2 [26000/60000 (43%)]\t1.601002\n",
            "Train Epoch: 2 [28000/60000 (47%)]\t1.620864\n",
            "Train Epoch: 2 [30000/60000 (50%)]\t1.596276\n",
            "Train Epoch: 2 [32000/60000 (53%)]\t1.635372\n",
            "Train Epoch: 2 [34000/60000 (57%)]\t1.615931\n",
            "Train Epoch: 2 [36000/60000 (60%)]\t1.634881\n",
            "Train Epoch: 2 [38000/60000 (63%)]\t1.603863\n",
            "Train Epoch: 2 [40000/60000 (67%)]\t1.558752\n",
            "Train Epoch: 2 [42000/60000 (70%)]\t1.594704\n",
            "Train Epoch: 2 [44000/60000 (73%)]\t1.599459\n",
            "Train Epoch: 2 [46000/60000 (77%)]\t1.660612\n",
            "Train Epoch: 2 [48000/60000 (80%)]\t1.557889\n",
            "Train Epoch: 2 [50000/60000 (83%)]\t1.621831\n",
            "Train Epoch: 2 [52000/60000 (87%)]\t1.551425\n",
            "Train Epoch: 2 [54000/60000 (90%)]\t1.557840\n",
            "Train Epoch: 2 [56000/60000 (93%)]\t1.636383\n",
            "Train Epoch: 2 [58000/60000 (97%)]\t1.612621\n",
            "\n",
            "Test set: Average loss: 0.0152, Accuracy 9388/10000 (94%\n",
            ")\n",
            "Train Epoch: 3 [0/60000 (0%)]\t1.592679\n",
            "Train Epoch: 3 [2000/60000 (3%)]\t1.607933\n",
            "Train Epoch: 3 [4000/60000 (7%)]\t1.576787\n",
            "Train Epoch: 3 [6000/60000 (10%)]\t1.609498\n",
            "Train Epoch: 3 [8000/60000 (13%)]\t1.644206\n",
            "Train Epoch: 3 [10000/60000 (17%)]\t1.546099\n",
            "Train Epoch: 3 [12000/60000 (20%)]\t1.578519\n",
            "Train Epoch: 3 [14000/60000 (23%)]\t1.569421\n",
            "Train Epoch: 3 [16000/60000 (27%)]\t1.539233\n",
            "Train Epoch: 3 [18000/60000 (30%)]\t1.566178\n",
            "Train Epoch: 3 [20000/60000 (33%)]\t1.595134\n",
            "Train Epoch: 3 [22000/60000 (37%)]\t1.575362\n",
            "Train Epoch: 3 [24000/60000 (40%)]\t1.616954\n",
            "Train Epoch: 3 [26000/60000 (43%)]\t1.634479\n",
            "Train Epoch: 3 [28000/60000 (47%)]\t1.626007\n",
            "Train Epoch: 3 [30000/60000 (50%)]\t1.603432\n",
            "Train Epoch: 3 [32000/60000 (53%)]\t1.599929\n",
            "Train Epoch: 3 [34000/60000 (57%)]\t1.591685\n",
            "Train Epoch: 3 [36000/60000 (60%)]\t1.531879\n",
            "Train Epoch: 3 [38000/60000 (63%)]\t1.604432\n",
            "Train Epoch: 3 [40000/60000 (67%)]\t1.557359\n",
            "Train Epoch: 3 [42000/60000 (70%)]\t1.619610\n",
            "Train Epoch: 3 [44000/60000 (73%)]\t1.582515\n",
            "Train Epoch: 3 [46000/60000 (77%)]\t1.593291\n",
            "Train Epoch: 3 [48000/60000 (80%)]\t1.558969\n",
            "Train Epoch: 3 [50000/60000 (83%)]\t1.600891\n",
            "Train Epoch: 3 [52000/60000 (87%)]\t1.556436\n",
            "Train Epoch: 3 [54000/60000 (90%)]\t1.562857\n",
            "Train Epoch: 3 [56000/60000 (93%)]\t1.575587\n",
            "Train Epoch: 3 [58000/60000 (97%)]\t1.616609\n",
            "\n",
            "Test set: Average loss: 0.0151, Accuracy 9504/10000 (95%\n",
            ")\n",
            "Train Epoch: 4 [0/60000 (0%)]\t1.614681\n",
            "Train Epoch: 4 [2000/60000 (3%)]\t1.594877\n",
            "Train Epoch: 4 [4000/60000 (7%)]\t1.567773\n",
            "Train Epoch: 4 [6000/60000 (10%)]\t1.540980\n",
            "Train Epoch: 4 [8000/60000 (13%)]\t1.580981\n",
            "Train Epoch: 4 [10000/60000 (17%)]\t1.564845\n",
            "Train Epoch: 4 [12000/60000 (20%)]\t1.592416\n",
            "Train Epoch: 4 [14000/60000 (23%)]\t1.568673\n",
            "Train Epoch: 4 [16000/60000 (27%)]\t1.587533\n",
            "Train Epoch: 4 [18000/60000 (30%)]\t1.580990\n",
            "Train Epoch: 4 [20000/60000 (33%)]\t1.606651\n",
            "Train Epoch: 4 [22000/60000 (37%)]\t1.543315\n",
            "Train Epoch: 4 [24000/60000 (40%)]\t1.622594\n",
            "Train Epoch: 4 [26000/60000 (43%)]\t1.550742\n",
            "Train Epoch: 4 [28000/60000 (47%)]\t1.601685\n",
            "Train Epoch: 4 [30000/60000 (50%)]\t1.577938\n",
            "Train Epoch: 4 [32000/60000 (53%)]\t1.556393\n",
            "Train Epoch: 4 [34000/60000 (57%)]\t1.542900\n",
            "Train Epoch: 4 [36000/60000 (60%)]\t1.551783\n",
            "Train Epoch: 4 [38000/60000 (63%)]\t1.578136\n",
            "Train Epoch: 4 [40000/60000 (67%)]\t1.555090\n",
            "Train Epoch: 4 [42000/60000 (70%)]\t1.576122\n",
            "Train Epoch: 4 [44000/60000 (73%)]\t1.601506\n",
            "Train Epoch: 4 [46000/60000 (77%)]\t1.562235\n",
            "Train Epoch: 4 [48000/60000 (80%)]\t1.616888\n",
            "Train Epoch: 4 [50000/60000 (83%)]\t1.534142\n",
            "Train Epoch: 4 [52000/60000 (87%)]\t1.555482\n",
            "Train Epoch: 4 [54000/60000 (90%)]\t1.521637\n",
            "Train Epoch: 4 [56000/60000 (93%)]\t1.536831\n",
            "Train Epoch: 4 [58000/60000 (97%)]\t1.533881\n",
            "\n",
            "Test set: Average loss: 0.0150, Accuracy 9565/10000 (96%\n",
            ")\n",
            "Train Epoch: 5 [0/60000 (0%)]\t1.593751\n",
            "Train Epoch: 5 [2000/60000 (3%)]\t1.547649\n",
            "Train Epoch: 5 [4000/60000 (7%)]\t1.550932\n",
            "Train Epoch: 5 [6000/60000 (10%)]\t1.552068\n",
            "Train Epoch: 5 [8000/60000 (13%)]\t1.564500\n",
            "Train Epoch: 5 [10000/60000 (17%)]\t1.544884\n",
            "Train Epoch: 5 [12000/60000 (20%)]\t1.579331\n",
            "Train Epoch: 5 [14000/60000 (23%)]\t1.557115\n",
            "Train Epoch: 5 [16000/60000 (27%)]\t1.569688\n",
            "Train Epoch: 5 [18000/60000 (30%)]\t1.543766\n",
            "Train Epoch: 5 [20000/60000 (33%)]\t1.543703\n",
            "Train Epoch: 5 [22000/60000 (37%)]\t1.641729\n",
            "Train Epoch: 5 [24000/60000 (40%)]\t1.533827\n",
            "Train Epoch: 5 [26000/60000 (43%)]\t1.563609\n",
            "Train Epoch: 5 [28000/60000 (47%)]\t1.545629\n",
            "Train Epoch: 5 [30000/60000 (50%)]\t1.550247\n",
            "Train Epoch: 5 [32000/60000 (53%)]\t1.535696\n",
            "Train Epoch: 5 [34000/60000 (57%)]\t1.540011\n",
            "Train Epoch: 5 [36000/60000 (60%)]\t1.529987\n",
            "Train Epoch: 5 [38000/60000 (63%)]\t1.537985\n",
            "Train Epoch: 5 [40000/60000 (67%)]\t1.535406\n",
            "Train Epoch: 5 [42000/60000 (70%)]\t1.601420\n",
            "Train Epoch: 5 [44000/60000 (73%)]\t1.534391\n",
            "Train Epoch: 5 [46000/60000 (77%)]\t1.524902\n",
            "Train Epoch: 5 [48000/60000 (80%)]\t1.570656\n",
            "Train Epoch: 5 [50000/60000 (83%)]\t1.542170\n",
            "Train Epoch: 5 [52000/60000 (87%)]\t1.575884\n",
            "Train Epoch: 5 [54000/60000 (90%)]\t1.562650\n",
            "Train Epoch: 5 [56000/60000 (93%)]\t1.552824\n",
            "Train Epoch: 5 [58000/60000 (97%)]\t1.603549\n",
            "\n",
            "Test set: Average loss: 0.0150, Accuracy 9578/10000 (96%\n",
            ")\n",
            "Train Epoch: 6 [0/60000 (0%)]\t1.509878\n",
            "Train Epoch: 6 [2000/60000 (3%)]\t1.538663\n",
            "Train Epoch: 6 [4000/60000 (7%)]\t1.579405\n",
            "Train Epoch: 6 [6000/60000 (10%)]\t1.561192\n",
            "Train Epoch: 6 [8000/60000 (13%)]\t1.553438\n",
            "Train Epoch: 6 [10000/60000 (17%)]\t1.542096\n",
            "Train Epoch: 6 [12000/60000 (20%)]\t1.549039\n",
            "Train Epoch: 6 [14000/60000 (23%)]\t1.542776\n",
            "Train Epoch: 6 [16000/60000 (27%)]\t1.594111\n",
            "Train Epoch: 6 [18000/60000 (30%)]\t1.585877\n",
            "Train Epoch: 6 [20000/60000 (33%)]\t1.542747\n",
            "Train Epoch: 6 [22000/60000 (37%)]\t1.556088\n",
            "Train Epoch: 6 [24000/60000 (40%)]\t1.528535\n",
            "Train Epoch: 6 [26000/60000 (43%)]\t1.585953\n",
            "Train Epoch: 6 [28000/60000 (47%)]\t1.541224\n",
            "Train Epoch: 6 [30000/60000 (50%)]\t1.552702\n",
            "Train Epoch: 6 [32000/60000 (53%)]\t1.585284\n",
            "Train Epoch: 6 [34000/60000 (57%)]\t1.529923\n",
            "Train Epoch: 6 [36000/60000 (60%)]\t1.506196\n",
            "Train Epoch: 6 [38000/60000 (63%)]\t1.583509\n",
            "Train Epoch: 6 [40000/60000 (67%)]\t1.618578\n",
            "Train Epoch: 6 [42000/60000 (70%)]\t1.573172\n",
            "Train Epoch: 6 [44000/60000 (73%)]\t1.545524\n",
            "Train Epoch: 6 [46000/60000 (77%)]\t1.550260\n",
            "Train Epoch: 6 [48000/60000 (80%)]\t1.593606\n",
            "Train Epoch: 6 [50000/60000 (83%)]\t1.506349\n",
            "Train Epoch: 6 [52000/60000 (87%)]\t1.579291\n",
            "Train Epoch: 6 [54000/60000 (90%)]\t1.558651\n",
            "Train Epoch: 6 [56000/60000 (93%)]\t1.592469\n",
            "Train Epoch: 6 [58000/60000 (97%)]\t1.548430\n",
            "\n",
            "Test set: Average loss: 0.0150, Accuracy 9626/10000 (96%\n",
            ")\n",
            "Train Epoch: 7 [0/60000 (0%)]\t1.534152\n",
            "Train Epoch: 7 [2000/60000 (3%)]\t1.575871\n",
            "Train Epoch: 7 [4000/60000 (7%)]\t1.558948\n",
            "Train Epoch: 7 [6000/60000 (10%)]\t1.597125\n",
            "Train Epoch: 7 [8000/60000 (13%)]\t1.547787\n",
            "Train Epoch: 7 [10000/60000 (17%)]\t1.586213\n",
            "Train Epoch: 7 [12000/60000 (20%)]\t1.484181\n",
            "Train Epoch: 7 [14000/60000 (23%)]\t1.555480\n",
            "Train Epoch: 7 [16000/60000 (27%)]\t1.646236\n",
            "Train Epoch: 7 [18000/60000 (30%)]\t1.593286\n",
            "Train Epoch: 7 [20000/60000 (33%)]\t1.582256\n",
            "Train Epoch: 7 [22000/60000 (37%)]\t1.552192\n",
            "Train Epoch: 7 [24000/60000 (40%)]\t1.579930\n",
            "Train Epoch: 7 [26000/60000 (43%)]\t1.571296\n",
            "Train Epoch: 7 [28000/60000 (47%)]\t1.570379\n",
            "Train Epoch: 7 [30000/60000 (50%)]\t1.518458\n",
            "Train Epoch: 7 [32000/60000 (53%)]\t1.512529\n",
            "Train Epoch: 7 [34000/60000 (57%)]\t1.569202\n",
            "Train Epoch: 7 [36000/60000 (60%)]\t1.537677\n",
            "Train Epoch: 7 [38000/60000 (63%)]\t1.545414\n",
            "Train Epoch: 7 [40000/60000 (67%)]\t1.539059\n",
            "Train Epoch: 7 [42000/60000 (70%)]\t1.540973\n",
            "Train Epoch: 7 [44000/60000 (73%)]\t1.528881\n",
            "Train Epoch: 7 [46000/60000 (77%)]\t1.544307\n",
            "Train Epoch: 7 [48000/60000 (80%)]\t1.533753\n",
            "Train Epoch: 7 [50000/60000 (83%)]\t1.536452\n",
            "Train Epoch: 7 [52000/60000 (87%)]\t1.544053\n",
            "Train Epoch: 7 [54000/60000 (90%)]\t1.540905\n",
            "Train Epoch: 7 [56000/60000 (93%)]\t1.527005\n",
            "Train Epoch: 7 [58000/60000 (97%)]\t1.548258\n",
            "\n",
            "Test set: Average loss: 0.0150, Accuracy 9654/10000 (97%\n",
            ")\n",
            "Train Epoch: 8 [0/60000 (0%)]\t1.553003\n",
            "Train Epoch: 8 [2000/60000 (3%)]\t1.561738\n",
            "Train Epoch: 8 [4000/60000 (7%)]\t1.571097\n",
            "Train Epoch: 8 [6000/60000 (10%)]\t1.508119\n",
            "Train Epoch: 8 [8000/60000 (13%)]\t1.538092\n",
            "Train Epoch: 8 [10000/60000 (17%)]\t1.560680\n",
            "Train Epoch: 8 [12000/60000 (20%)]\t1.568173\n",
            "Train Epoch: 8 [14000/60000 (23%)]\t1.514719\n",
            "Train Epoch: 8 [16000/60000 (27%)]\t1.559219\n",
            "Train Epoch: 8 [18000/60000 (30%)]\t1.579686\n",
            "Train Epoch: 8 [20000/60000 (33%)]\t1.528341\n",
            "Train Epoch: 8 [22000/60000 (37%)]\t1.527884\n",
            "Train Epoch: 8 [24000/60000 (40%)]\t1.529173\n",
            "Train Epoch: 8 [26000/60000 (43%)]\t1.545052\n",
            "Train Epoch: 8 [28000/60000 (47%)]\t1.541638\n",
            "Train Epoch: 8 [30000/60000 (50%)]\t1.534729\n",
            "Train Epoch: 8 [32000/60000 (53%)]\t1.527544\n",
            "Train Epoch: 8 [34000/60000 (57%)]\t1.541222\n",
            "Train Epoch: 8 [36000/60000 (60%)]\t1.568628\n",
            "Train Epoch: 8 [38000/60000 (63%)]\t1.595476\n",
            "Train Epoch: 8 [40000/60000 (67%)]\t1.517975\n",
            "Train Epoch: 8 [42000/60000 (70%)]\t1.546129\n",
            "Train Epoch: 8 [44000/60000 (73%)]\t1.534682\n",
            "Train Epoch: 8 [46000/60000 (77%)]\t1.562297\n",
            "Train Epoch: 8 [48000/60000 (80%)]\t1.532090\n",
            "Train Epoch: 8 [50000/60000 (83%)]\t1.560766\n",
            "Train Epoch: 8 [52000/60000 (87%)]\t1.521538\n",
            "Train Epoch: 8 [54000/60000 (90%)]\t1.566871\n",
            "Train Epoch: 8 [56000/60000 (93%)]\t1.589623\n",
            "Train Epoch: 8 [58000/60000 (97%)]\t1.523829\n",
            "\n",
            "Test set: Average loss: 0.0150, Accuracy 9649/10000 (96%\n",
            ")\n",
            "Train Epoch: 9 [0/60000 (0%)]\t1.516628\n",
            "Train Epoch: 9 [2000/60000 (3%)]\t1.553258\n",
            "Train Epoch: 9 [4000/60000 (7%)]\t1.518180\n",
            "Train Epoch: 9 [6000/60000 (10%)]\t1.568006\n",
            "Train Epoch: 9 [8000/60000 (13%)]\t1.545624\n",
            "Train Epoch: 9 [10000/60000 (17%)]\t1.533816\n",
            "Train Epoch: 9 [12000/60000 (20%)]\t1.535465\n",
            "Train Epoch: 9 [14000/60000 (23%)]\t1.518995\n",
            "Train Epoch: 9 [16000/60000 (27%)]\t1.568563\n",
            "Train Epoch: 9 [18000/60000 (30%)]\t1.545496\n",
            "Train Epoch: 9 [20000/60000 (33%)]\t1.549543\n",
            "Train Epoch: 9 [22000/60000 (37%)]\t1.491186\n",
            "Train Epoch: 9 [24000/60000 (40%)]\t1.569016\n",
            "Train Epoch: 9 [26000/60000 (43%)]\t1.508129\n",
            "Train Epoch: 9 [28000/60000 (47%)]\t1.510137\n",
            "Train Epoch: 9 [30000/60000 (50%)]\t1.554414\n",
            "Train Epoch: 9 [32000/60000 (53%)]\t1.540099\n",
            "Train Epoch: 9 [34000/60000 (57%)]\t1.559412\n",
            "Train Epoch: 9 [36000/60000 (60%)]\t1.577087\n",
            "Train Epoch: 9 [38000/60000 (63%)]\t1.517032\n",
            "Train Epoch: 9 [40000/60000 (67%)]\t1.546347\n",
            "Train Epoch: 9 [42000/60000 (70%)]\t1.558589\n",
            "Train Epoch: 9 [44000/60000 (73%)]\t1.532822\n",
            "Train Epoch: 9 [46000/60000 (77%)]\t1.564400\n",
            "Train Epoch: 9 [48000/60000 (80%)]\t1.542988\n",
            "Train Epoch: 9 [50000/60000 (83%)]\t1.547235\n",
            "Train Epoch: 9 [52000/60000 (87%)]\t1.482330\n",
            "Train Epoch: 9 [54000/60000 (90%)]\t1.581207\n",
            "Train Epoch: 9 [56000/60000 (93%)]\t1.527017\n",
            "Train Epoch: 9 [58000/60000 (97%)]\t1.541710\n",
            "\n",
            "Test set: Average loss: 0.0149, Accuracy 9692/10000 (97%\n",
            ")\n",
            "Train Epoch: 10 [0/60000 (0%)]\t1.594731\n",
            "Train Epoch: 10 [2000/60000 (3%)]\t1.495381\n",
            "Train Epoch: 10 [4000/60000 (7%)]\t1.568153\n",
            "Train Epoch: 10 [6000/60000 (10%)]\t1.545578\n",
            "Train Epoch: 10 [8000/60000 (13%)]\t1.566967\n",
            "Train Epoch: 10 [10000/60000 (17%)]\t1.507416\n",
            "Train Epoch: 10 [12000/60000 (20%)]\t1.507346\n",
            "Train Epoch: 10 [14000/60000 (23%)]\t1.515487\n",
            "Train Epoch: 10 [16000/60000 (27%)]\t1.537488\n",
            "Train Epoch: 10 [18000/60000 (30%)]\t1.494827\n",
            "Train Epoch: 10 [20000/60000 (33%)]\t1.556490\n",
            "Train Epoch: 10 [22000/60000 (37%)]\t1.510755\n",
            "Train Epoch: 10 [24000/60000 (40%)]\t1.527032\n",
            "Train Epoch: 10 [26000/60000 (43%)]\t1.534204\n",
            "Train Epoch: 10 [28000/60000 (47%)]\t1.563086\n",
            "Train Epoch: 10 [30000/60000 (50%)]\t1.514534\n",
            "Train Epoch: 10 [32000/60000 (53%)]\t1.543075\n",
            "Train Epoch: 10 [34000/60000 (57%)]\t1.509187\n",
            "Train Epoch: 10 [36000/60000 (60%)]\t1.528249\n",
            "Train Epoch: 10 [38000/60000 (63%)]\t1.510012\n",
            "Train Epoch: 10 [40000/60000 (67%)]\t1.585803\n",
            "Train Epoch: 10 [42000/60000 (70%)]\t1.546533\n",
            "Train Epoch: 10 [44000/60000 (73%)]\t1.603126\n",
            "Train Epoch: 10 [46000/60000 (77%)]\t1.519411\n",
            "Train Epoch: 10 [48000/60000 (80%)]\t1.528948\n",
            "Train Epoch: 10 [50000/60000 (83%)]\t1.582108\n",
            "Train Epoch: 10 [52000/60000 (87%)]\t1.545773\n",
            "Train Epoch: 10 [54000/60000 (90%)]\t1.596901\n",
            "Train Epoch: 10 [56000/60000 (93%)]\t1.535255\n",
            "Train Epoch: 10 [58000/60000 (97%)]\t1.527640\n",
            "\n",
            "Test set: Average loss: 0.0149, Accuracy 9692/10000 (97%\n",
            ")\n"
          ]
        }
      ],
      "source": [
        "for epoch in range(1, 11):\n",
        "  train(epoch)\n",
        "  test()"
      ]
    }
  ],
  "metadata": {
    "colab": {
      "provenance": []
    },
    "kernelspec": {
      "display_name": "Python 3",
      "name": "python3"
    },
    "language_info": {
      "name": "python"
    }
  },
  "nbformat": 4,
  "nbformat_minor": 0
}